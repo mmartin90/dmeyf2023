{
 "cells": [
  {
   "cell_type": "code",
   "execution_count": null,
   "metadata": {},
   "outputs": [],
   "source": [
    "%%bash\n",
    "pip install --upgrade duckdb\n",
    "pip install --upgrade jupysql\n",
    "pip install --upgrade duckdb-engine"
   ]
  },
  {
   "cell_type": "code",
   "execution_count": null,
   "metadata": {},
   "outputs": [],
   "source": [
    "import duckdb\n",
    "import pandas as pd\n",
    "\n",
    "%load_ext sql\n",
    "%config SqlMagic.autopandas = True\n",
    "%config SqlMagic.feedback = False\n",
    "%config SqlMagic.displaycon = False\n",
    "\n",
    "%sql duckdb:////content/dmeyf.db"
   ]
  },
  {
   "cell_type": "code",
   "execution_count": null,
   "metadata": {},
   "outputs": [],
   "source": [
    "# Creo macro para sumar dos valores, si alguno es null, lo considera como 0\n",
    "%%sql\n",
    "CREATE MACRO suma_sin_null(a, b) AS ifnull(a, 0) + ifnull(b, 0);"
   ]
  },
  {
   "cell_type": "code",
   "execution_count": null,
   "metadata": {},
   "outputs": [],
   "source": [
    "# Creo macro para calcular ratio previendo division por cero\n",
    "%%sql\n",
    "CREATE MACRO calculo_ratio(a, b) AS NULLIF(a / NULLIF(b,0),0);"
   ]
  },
  {
   "cell_type": "code",
   "execution_count": null,
   "metadata": {},
   "outputs": [],
   "source": [
    "# Creo macro para eliminar el drifting de la variable\n",
    "%%sql\n",
    "CREATE MACRO corrijo_drift_rank(a) AS rank() over (partition by foto_mes order by a);"
   ]
  },
  {
   "cell_type": "code",
   "execution_count": null,
   "metadata": {},
   "outputs": [],
   "source": [
    "# Sumo dos variables y creo una nueva\n",
    "%%sql\n",
    "select\n",
    "    Master_msaldototal, \n",
    "    Visa_msaldototal, \n",
    "    ifnull(Master_msaldototal, 0) + ifnull(Visa_msaldototal, 0) as tc_saldo_total\n",
    "from competencia_01"
   ]
  },
  {
   "cell_type": "code",
   "execution_count": null,
   "metadata": {},
   "outputs": [],
   "source": [
    "# Aplico macro para sumar sin nulls\n",
    "%%sql\n",
    "select distinct\n",
    "    Master_msaldototal, \n",
    "    Visa_msaldototal, \n",
    "    suma_sin_null(Master_msaldototal, Visa_msaldototal) as tc_saldo_total\n",
    "from competencia_01"
   ]
  },
  {
   "cell_type": "code",
   "execution_count": null,
   "metadata": {},
   "outputs": [],
   "source": [
    "# Aplico macro para calcular ratios de dos variables\n",
    "%%sql\n",
    "select distinct\n",
    "    Master_msaldototal, \n",
    "    Visa_msaldototal, \n",
    "    calculo_ratio(Master_msaldototal, Visa_msaldototal) as ratio_master_visa\n",
    "from competencia_01"
   ]
  },
  {
   "cell_type": "code",
   "execution_count": null,
   "metadata": {},
   "outputs": [],
   "source": [
    "# Eliminar el drifting\n",
    "%%sql\n",
    "select\n",
    "    foto_mes, \n",
    "    cliente_antiguedad,\n",
    "    row_number() over (partition by foto_mes order by cliente_antiguedad) as cliente_antiguedad_2,\n",
    "    percent_rank() over (partition by foto_mes order by cliente_antiguedad) as cliente_antiguedad_3,\n",
    "    cume_dist() over (partition by foto_mes order by cliente_antiguedad) as cliente_antiguedad_4,\n",
    "    ntile(4) over (partition by foto_mes order by cliente_antiguedad) as cliente_antiguedad_5,\n",
    "    ntile(10) over (partition by foto_mes order by cliente_antiguedad) as cliente_antiguedad_6,\n",
    "    ntile(10) over (partition by foto_mes order by cliente_antiguedad desc) as cliente_antiguedad_7\n",
    "from competencia_01\n",
    "order by cliente_antiguedad"
   ]
  },
  {
   "cell_type": "code",
   "execution_count": null,
   "metadata": {},
   "outputs": [],
   "source": [
    "# Aplico macro para eliminar el drifting\n",
    "%%sql\n",
    "select\n",
    "    foto_mes, \n",
    "    cliente_antiguedad,\n",
    "    corrijo_drift_rank(Master_msaldototal) as Master_msaldototal_sin_drift\n",
    "from competencia_01\n",
    "order by cliente_antiguedad"
   ]
  },
  {
   "cell_type": "code",
   "execution_count": null,
   "metadata": {},
   "outputs": [],
   "source": [
    "# Feature que muestre el valor del periodo anterior\n",
    "%%sql\n",
    "select\n",
    "  numero_de_cliente, \n",
    "  foto_mes, \n",
    "  ctrx_quarter, \n",
    "  lag(ctrx_quarter, 1) over (partition by numero_de_cliente order by foto_mes) as lag_1_ctrx_quarter\n",
    "from competencia_02\n",
    "limit 10"
   ]
  },
  {
   "cell_type": "code",
   "execution_count": null,
   "metadata": {},
   "outputs": [],
   "source": [
    "# Media móvil en los últimos 6 meses\n",
    "%%sql\n",
    "select\n",
    "  numero_de_cliente, \n",
    "  foto_mes, \n",
    "  ctrx_quarter, \n",
    "  lag(ctrx_quarter, 1) over (partition by numero_de_cliente order by foto_mes) as lag_1_ctrx_quarter, \n",
    "  ctrx_quarter - lag_1_ctrx_quarter as delta_1_ctrx_quarter, \n",
    "  ctrx_quarter - lag(ctrx_quarter, 2) over (partition by numero_de_cliente order by foto_mes) as lag_2_ctrx_quarter\n",
    "from competencia_02\n",
    "limit 10"
   ]
  },
  {
   "cell_type": "code",
   "execution_count": null,
   "metadata": {},
   "outputs": [],
   "source": [
    "# Simplificación del código previo para trabajar en la ventana definida y no tener que repetir para cada linea.\n",
    "%%sql\n",
    "select\n",
    "  numero_de_cliente, \n",
    "  foto_mes, \n",
    "  ctrx_quarter, \n",
    "  avg(ctrx_quarter) over ventana_6 as ctrx_quarter_media_6, \n",
    "  max(ctrx_quarter) over ventana_6 as ctrx_quarter_max_6, \n",
    "  min(ctrx_quarter) over ventana_6 as ctrx_quarter_min_6\n",
    "from competencia_02\n",
    "window ventana_6 as (partition by numero_de_cliente order by foto_mes rows between 6 preceding and current row)\n",
    "limit 10"
   ]
  },
  {
   "cell_type": "code",
   "execution_count": null,
   "metadata": {},
   "outputs": [],
   "source": [
    "# Para calcular la pendiente. El beta de la relación entre variables\n",
    "%%sql\n",
    "select\n",
    "  numero_de_cliente, \n",
    "  foto_mes, \n",
    "  ctrx_quarter,\n",
    "  regr_slope(ctrx_quarter, cliente_antiguedad) over ventana_6 as ctrx_quarter_slope_6\n",
    "from competencia_02\n",
    "window ventana_6 as (partition by numero_de_cliente order by foto_mes rows between 6 preceding and current row)\n",
    "limit 10"
   ]
  },
  {
   "cell_type": "markdown",
   "metadata": {},
   "source": [
    "Para realizar estas operaciones en un conjunto de variables... puedo usar una lista de variables y aplicarles las funciones."
   ]
  },
  {
   "cell_type": "code",
   "execution_count": null,
   "metadata": {},
   "outputs": [],
   "source": [
    "campos = [\n",
    "    'active_quarter', 'cliente_vip', 'internet', 'cliente_edad', 'cliente_antiguedad', \n",
    "    'mrentabilidad', 'mrentabilidad_annual', 'mcomisiones', 'mactivos_margen', 'mpasivos_margen', \n",
    "    'cproductos', 'tcuentas', 'ccuenta_corriente', 'mcuenta_corriente_adicional', 'mcuenta_corriente', \n",
    "    'ccaja_ahorro', 'mcaja_ahorro', 'mcaja_ahorro_adicional', 'mcaja_ahorro_dolares', 'cdescubierto_preacordado', \n",
    "    'mcuentas_saldo', 'ctarjeta_debito', 'ctarjeta_debito_transacciones', 'mautoservicio', 'ctarjeta_visa', \n",
    "    'ctarjeta_visa_transacciones', 'mtarjeta_visa_consumo', 'ctarjeta_master', 'ctarjeta_master_transacciones', \n",
    "    'mtarjeta_master_consumo', 'cprestamos_personales', 'mprestamos_personales', 'cprestamos_prendarios', 'mprestamos_prendarios', \n",
    "    'cprestamos_hipotecarios', 'mprestamos_hipotecarios', 'cplazo_fijo', 'mplazo_fijo_dolares', 'mplazo_fijo_pesos', 'cinversion1', \n",
    "    'minversion1_pesos', 'minversion1_dolares', 'cinversion2', 'minversion2', 'cseguro_vida', 'cseguro_auto', 'cseguro_vivienda', \n",
    "    'cseguro_accidentes_personales', 'ccaja_seguridad', 'cpayroll_trx', 'mpayroll', 'mpayroll2', 'cpayroll2_trx', \n",
    "    'ccuenta_debitos_automaticos', 'mcuenta_debitos_automaticos', 'ctarjeta_visa_debitos_automaticos', 'mttarjeta_visa_debitos_automaticos', \n",
    "    'ctarjeta_master_debitos_automaticos', 'mttarjeta_master_debitos_automaticos', 'cpagodeservicios', 'mpagodeservicios', 'cpagomiscuentas', \n",
    "    'mpagomiscuentas', 'ccajeros_propios_descuentos', 'mcajeros_propios_descuentos', 'ctarjeta_visa_descuentos', 'mtarjeta_visa_descuentos', \n",
    "    'ctarjeta_master_descuentos', 'mtarjeta_master_descuentos', 'ccomisiones_mantenimiento', 'mcomisiones_mantenimiento', 'ccomisiones_otras', \n",
    "    'mcomisiones_otras', 'cforex', 'cforex_buy', 'mforex_buy', 'cforex_sell', 'mforex_sell', 'ctransferencias_recibidas', 'mtransferencias_recibidas', \n",
    "    'ctransferencias_emitidas', 'mtransferencias_emitidas', 'cextraccion_autoservicio', 'mextraccion_autoservicio', 'ccheques_depositados', \n",
    "    'mcheques_depositados', 'ccheques_emitidos', 'mcheques_emitidos', 'ccheques_depositados_rechazados', 'mcheques_depositados_rechazados', \n",
    "    'ccheques_emitidos_rechazados', 'mcheques_emitidos_rechazados', 'tcallcenter', 'ccallcenter_transacciones', 'thomebanking', \n",
    "    'chomebanking_transacciones', 'ccajas_transacciones', 'ccajas_consultas', 'ccajas_depositos', 'ccajas_extracciones', 'ccajas_otras', \n",
    "    'catm_trx', 'matm', 'catm_trx_other', 'matm_other', 'ctrx_quarter', 'Master_delinquency', 'Master_status', 'Master_mfinanciacion_limite', \n",
    "    'Master_Fvencimiento', 'Master_Finiciomora', 'Master_msaldototal', 'Master_msaldopesos', 'Master_msaldodolares', 'Master_mconsumospesos', \n",
    "    'Master_mconsumosdolares', 'Master_mlimitecompra', 'Master_madelantopesos', 'Master_madelantodolares', 'Master_fultimo_cierre', 'Master_mpagado', \n",
    "    'Master_mpagospesos', 'Master_mpagosdolares', 'Master_fechaalta', 'Master_mconsumototal', 'Master_cconsumos', 'Master_cadelantosefectivo', \n",
    "    'Master_mpagominimo', 'Visa_delinquency', 'Visa_status', 'Visa_mfinanciacion_limite', 'Visa_Fvencimiento', 'Visa_Finiciomora', 'Visa_msaldototal', \n",
    "    'Visa_msaldopesos', 'Visa_msaldodolares', 'Visa_mconsumospesos', 'Visa_mconsumosdolares', 'Visa_mlimitecompra', 'Visa_madelantopesos', \n",
    "    'Visa_madelantodolares', 'Visa_fultimo_cierre', 'Visa_mpagado', 'Visa_mpagospesos', 'Visa_mpagosdolares', 'Visa_fechaalta', 'Visa_mconsumototal', \n",
    "    'Visa_cconsumos', 'Visa_cadelantosefectivo', 'Visa_mpagominimo']"
   ]
  },
  {
   "cell_type": "code",
   "execution_count": null,
   "metadata": {},
   "outputs": [],
   "source": [
    "# Para realizar estas operaciones en un conjunto de variables... puedo usar una lista de variables y aplicarles las funciones.\n",
    "%%sql\n",
    "nuevos_features = \"\"\n",
    "for campo in campos:\n",
    "  nuevos_features += f\"\\n, regr_slope({campo}, cliente_antiguedad) over ventana_6 as ctrx_{campo}_slope_6\"\n",
    "print(nuevos_features)"
   ]
  },
  {
   "cell_type": "markdown",
   "metadata": {},
   "source": [
    "#### Aplicando funciones para Competencia02"
   ]
  },
  {
   "cell_type": "code",
   "execution_count": null,
   "metadata": {},
   "outputs": [],
   "source": [
    "%%sql\n",
    "CREATE TABLE table_1 AS\n",
    "SELECT\n",
    "    *,\n",
    "    \n",
    "    suma_sin_null(ctarjeta_visa_transacciones, ctarjeta_master_transacciones) as tc_transacciones_total,\n",
    "    suma_sin_null(ctarjeta_visa, ctarjeta_master) as tc_ctarjeta_total,\n",
    "    suma_sin_null(mtarjeta_visa_consumo, mtarjeta_master_consumo) as tc_consumo_total,\n",
    "    suma_sin_null(Master_mconsumototal, Visa_mconsumototal) as tc_mconsumo_total,\n",
    "    suma_sin_null(Visa_mlimitecompra, Master_mlimitecompra) as tc_limcompra_total,\n",
    "    suma_sin_null(Master_mpagado, Visa_mpagado) as tc_pagado_total,\n",
    "    suma_sin_null(Master_mpagominimo, Visa_mpagominimo) as tc_saldo_total,\n",
    "    suma_sin_null(Master_msaldototal, Visa_msaldototal) as tc_pagomin_total,\n",
    "    ifnull(mprestamos_personales, 0) + ifnull(mprestamos_prendarios, 0) + ifnull(mprestamos_hipotecarios, 0) as pasivos_total,\n",
    "    ifnull(mplazo_fijo_dolares, 0) + ifnull(mplazo_fijo_pesos, 0) + ifnull(minversion1_pesos, 0) \n",
    "        + ifnull(minversion1_dolares, 0) + ifnull(minversion2, 0) as activos_total,\n",
    "    ifnull(mpayroll, 0) + ifnull(mpayroll2, 0) as flujos_ingresos_total,\n",
    "    ifnull(mcajeros_propios_descuentos, 0) + ifnull(mtarjeta_visa_descuentos, 0) + ifnull(mtarjeta_master_descuentos, 0) as beneficios_total,\n",
    "    ifnull(mcomisiones_mantenimiento, 0) + ifnull(mcomisiones_otras, 0) as comisiones_total,\n",
    "    ifnull(mcuenta_debitos_automaticos, 0) + ifnull(mttarjeta_visa_debitos_automaticos, 0) + ifnull(mttarjeta_master_debitos_automaticos, 0) \n",
    "        + ifnull(mpagodeservicios, 0) + ifnull(mpagomiscuentas, 0) as gastos_total,\n",
    "\n",
    "\n",
    "    corrijo_drift_rank(tc_mconsumo_total) as tc_mconsumo_total_sin_drift,\n",
    "    corrijo_drift_rank(tc_limcompra_total) as tc_limcompra_total_sin_drift,\n",
    "    corrijo_drift_rank(tc_pagado_total) as tc_pagado_total_sin_drift,\n",
    "    corrijo_drift_rank(pasivos_total) as pasivos_total_sin_drift,\n",
    "    corrijo_drift_rank(activos_total) as activos_total_sin_drift,\n",
    "    corrijo_drift_rank(flujos_ingresos_total) as flujos_ingresos_total_sin_drift,\n",
    "    corrijo_drift_rank(comisiones_total) as comisiones_total_sin_drift,\n",
    "    corrijo_drift_rank(gastos_total) as gastos_total_sin_drift,\n",
    "    \n",
    "\n",
    "    lag(ctrx_quarter, 1) over (partition by numero_de_cliente order by foto_mes) as ctrx_quarter_sin_drift,\n",
    "    lag(tc_mconsumo_total_sin_drift, 1) over (partition by numero_de_cliente order by foto_mes) as lag_1_tc_mconsumo_total_sin_drift,\n",
    "    lag(tc_limcompra_total_sin_drift, 1) over (partition by numero_de_cliente order by foto_mes) as lag_1_tc_limcompra_total_sin_drift,\n",
    "    lag(tc_pagado_total_sin_drift, 1) over (partition by numero_de_cliente order by foto_mes) as lag_1_tc_pagado_total_sin_drift,\n",
    "    lag(pasivos_total_sin_drift, 1) over (partition by numero_de_cliente order by foto_mes) as lag_1_pasivos_total_sin_drift,\n",
    "    lag(activos_total_sin_drift, 1) over (partition by numero_de_cliente order by foto_mes) as lag_1_activos_total_sin_drift,\n",
    "    lag(flujos_ingresos_total_sin_drift, 1) over (partition by numero_de_cliente order by foto_mes) as lag_1_flujos_ingresos_total_sin_drift,\n",
    "    lag(comisiones_total_sin_drift, 1) over (partition by numero_de_cliente order by foto_mes) as lag_1_comisiones_total_sin_drift,\n",
    "    lag(gastos_total_sin_drift, 1) over (partition by numero_de_cliente order by foto_mes) as lag_1_gastos_total_sin_drift,\n",
    "\n",
    "\n",
    "    calculo_ratio(tc_consumo_total, flujos_ingresos_total) as consumo_sobre_ingresos,\n",
    "    calculo_ratio(tc_mconsumo_total, flujos_ingresos_total) as tcm_consumo_sobre_ingresos,\n",
    "    calculo_ratio(tc_pagado_total, flujos_ingresos_total) as pagado_sobre_ingresos,\n",
    "    calculo_ratio(tc_pagado_total, activos_total) as pagado_sobre_activos,\n",
    "    calculo_ratio(tc_pagomin_total, flujos_ingresos_total) as pagomin_sobre_ingresos,\n",
    "    calculo_ratio(tc_consumo_total, activos_total) as gastos_sobre_activos,\n",
    "    calculo_ratio(activos_total, pasivos_total) as activos_sobre_pasivos,\n",
    "    calculo_ratio(beneficios_total, comisiones_total) as beneficios_sobre_comisiones,\n",
    "    calculo_ratio(beneficios_total, tc_consumo_total) as beneficios_sobre_consumos,\n",
    "    calculo_ratio(gastos_total, flujos_ingresos_total) as gastos_sobre_ingresos,\n",
    "    calculo_ratio(tc_limcompra_total, tc_consumo_total) as lim_sobre_consumos,\n",
    "    \n",
    "    \n",
    "    avg(ctrx_quarter) over ventana_6 as ctrx_quarter_media_6, \n",
    "    max(ctrx_quarter) over ventana_6 as ctrx_quarter_max_6, \n",
    "    min(ctrx_quarter) over ventana_6 as ctrx_quarter_min_6\n",
    "    regr_slope(ctrx_quarter, cliente_antiguedad) over ventana_6 as ctrx_quarter_slope_6\n",
    "    \n",
    "    avg(cproductos) over ventana_6 as cproductos_media_6, \n",
    "    max(cproductos) over ventana_6 as cproductos_max_6, \n",
    "    min(cproductos) over ventana_6 as cproductos_min_6\n",
    "    regr_slope(cproductos, cliente_antiguedad) over ventana_6 as cproductos_slope_6\n",
    "    \n",
    "    avg(ctarjeta_debito_transacciones) over ventana_6 as ctarjeta_debito_transacciones_media_6, \n",
    "    max(ctarjeta_debito_transacciones) over ventana_6 as ctarjeta_debito_transacciones_max_6, \n",
    "    min(ctarjeta_debito_transacciones) over ventana_6 as ctarjeta_debito_transacciones_min_6\n",
    "    regr_slope(ctarjeta_debito_transacciones, cliente_antiguedad) over ventana_6 as ctarjeta_debito_transacciones_slope_6\n",
    "\n",
    "    avg(chomebanking_transacciones) over ventana_6 as chomebanking_transacciones_media_6, \n",
    "    max(chomebanking_transacciones) over ventana_6 as chomebanking_transacciones_max_6, \n",
    "    min(chomebanking_transacciones) over ventana_6 as chomebanking_transacciones_min_6\n",
    "    regr_slope(chomebanking_transacciones, cliente_antiguedad) over ventana_6 as chomebanking_transacciones_slope_6\n",
    "\n",
    "    avg(tc_transacciones_total) over ventana_6 as tc_transacciones_total_media_6, \n",
    "    max(tc_transacciones_total) over ventana_6 as tc_transacciones_total_max_6, \n",
    "    min(tc_transacciones_total) over ventana_6 as tc_transacciones_total_min_6\n",
    "    regr_slope(tc_transacciones_total, cliente_antiguedad) over ventana_6 as tc_transacciones_total_slope_6    \n",
    "     \n",
    "FROM competencia_01\n",
    "window ventana_6 as (partition by numero_de_cliente order by foto_mes rows between 6 preceding and current row)\n"
   ]
  },
  {
   "cell_type": "code",
   "execution_count": 1,
   "metadata": {},
   "outputs": [
    {
     "name": "stderr",
     "output_type": "stream",
     "text": [
      "UsageError: Cell magic `%%sql` not found.\n"
     ]
    }
   ],
   "source": [
    "%%sql\n",
    "ALTER TABLE table_1 DROP COLUMN ctarjeta_visa_transacciones;\n",
    "ALTER TABLE table_1 DROP COLUMN ctarjeta_master_transacciones;\n",
    "ALTER TABLE table_1 DROP COLUMN ctarjeta_visa;\n",
    "ALTER TABLE table_1 DROP COLUMN ctarjeta_master;\n",
    "ALTER TABLE table_1 DROP COLUMN mtarjeta_visa_consumo;\n",
    "ALTER TABLE table_1 DROP COLUMN mtarjeta_master_consumo;\n",
    "ALTER TABLE table_1 DROP COLUMN Master_mconsumototal;\n",
    "ALTER TABLE table_1 DROP COLUMN Visa_mconsumototal;\n",
    "ALTER TABLE table_1 DROP COLUMN Visa_mlimitecompra;\n",
    "ALTER TABLE table_1 DROP COLUMN Master_mlimitecompra;\n",
    "ALTER TABLE table_1 DROP COLUMN Master_mpagado;\n",
    "ALTER TABLE table_1 DROP COLUMN Visa_mpagado;\n",
    "ALTER TABLE table_1 DROP COLUMN Master_mpagominimo;\n",
    "ALTER TABLE table_1 DROP COLUMN Visa_mpagominimo;\n",
    "ALTER TABLE table_1 DROP COLUMN tc_mconsumo_total;\n",
    "ALTER TABLE table_1 DROP COLUMN tc_limcompra_total;\n",
    "ALTER TABLE table_1 DROP COLUMN tc_pagado_total;\n",
    "ALTER TABLE table_1 DROP COLUMN pasivos_total;\n",
    "ALTER TABLE table_1 DROP COLUMN activos_total;\n",
    "ALTER TABLE table_1 DROP COLUMN flujos_ingresos_total;\n",
    "ALTER TABLE table_1 DROP COLUMN comisiones_total;\n",
    "ALTER TABLE table_1 DROP COLUMN gastos_total;\n"
   ]
  },
  {
   "cell_type": "code",
   "execution_count": null,
   "metadata": {},
   "outputs": [],
   "source": [
    "%%sql\n",
    "copy table_1 to '/content/competencia_02.csv.gz' (FORMAT CSV, HEADER)"
   ]
  }
 ],
 "metadata": {
  "kernelspec": {
   "display_name": "Python 3",
   "language": "python",
   "name": "python3"
  },
  "language_info": {
   "codemirror_mode": {
    "name": "ipython",
    "version": 3
   },
   "file_extension": ".py",
   "mimetype": "text/x-python",
   "name": "python",
   "nbconvert_exporter": "python",
   "pygments_lexer": "ipython3",
   "version": "3.11.4"
  },
  "orig_nbformat": 4
 },
 "nbformat": 4,
 "nbformat_minor": 2
}
