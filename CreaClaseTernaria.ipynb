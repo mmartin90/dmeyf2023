{
 "cells": [
  {
   "cell_type": "code",
   "execution_count": 1,
   "id": "480d5e34-853e-4c44-8570-39c0ff8e4608",
   "metadata": {},
   "outputs": [],
   "source": [
    "import duckdb\n",
    "import pandas as pd\n",
    "\n",
    "%load_ext sql\n",
    "%config SqlMagic.autopandas = True\n",
    "%config SqlMagic.feedback = False\n",
    "%config SqlMagic.displaycon = False\n",
    "\n",
    "%sql duckdb:///:default:"
   ]
  },
  {
   "cell_type": "code",
   "execution_count": 2,
   "id": "350bc1ff-181f-4bdf-a137-75a9786f1964",
   "metadata": {},
   "outputs": [
    {
     "data": {
      "text/html": [
       "<div>\n",
       "<style scoped>\n",
       "    .dataframe tbody tr th:only-of-type {\n",
       "        vertical-align: middle;\n",
       "    }\n",
       "\n",
       "    .dataframe tbody tr th {\n",
       "        vertical-align: top;\n",
       "    }\n",
       "\n",
       "    .dataframe thead th {\n",
       "        text-align: right;\n",
       "    }\n",
       "</style>\n",
       "<table border=\"1\" class=\"dataframe\">\n",
       "  <thead>\n",
       "    <tr style=\"text-align: right;\">\n",
       "      <th></th>\n",
       "      <th>Success</th>\n",
       "    </tr>\n",
       "  </thead>\n",
       "  <tbody>\n",
       "  </tbody>\n",
       "</table>\n",
       "</div>"
      ],
      "text/plain": [
       "Empty DataFrame\n",
       "Columns: [Success]\n",
       "Index: []"
      ]
     },
     "execution_count": 2,
     "metadata": {},
     "output_type": "execute_result"
    }
   ],
   "source": [
    "%%sql\n",
    "create or replace table competencia_01 as \n",
    "select \n",
    "    *\n",
    "from read_csv_auto('G:/Mi unidad/Maestria Data Mining/2023_DMEyF/datasets/competencia_01_crudo.csv')"
   ]
  },
  {
   "cell_type": "code",
   "execution_count": 3,
   "id": "90aa575d",
   "metadata": {},
   "outputs": [
    {
     "data": {
      "text/html": [
       "<div>\n",
       "<style scoped>\n",
       "    .dataframe tbody tr th:only-of-type {\n",
       "        vertical-align: middle;\n",
       "    }\n",
       "\n",
       "    .dataframe tbody tr th {\n",
       "        vertical-align: top;\n",
       "    }\n",
       "\n",
       "    .dataframe thead th {\n",
       "        text-align: right;\n",
       "    }\n",
       "</style>\n",
       "<table border=\"1\" class=\"dataframe\">\n",
       "  <thead>\n",
       "    <tr style=\"text-align: right;\">\n",
       "      <th></th>\n",
       "      <th>Success</th>\n",
       "    </tr>\n",
       "  </thead>\n",
       "  <tbody>\n",
       "  </tbody>\n",
       "</table>\n",
       "</div>"
      ],
      "text/plain": [
       "Empty DataFrame\n",
       "Columns: [Success]\n",
       "Index: []"
      ]
     },
     "execution_count": 3,
     "metadata": {},
     "output_type": "execute_result"
    }
   ],
   "source": [
    "%%sql\n",
    "DROP TABLE IF EXISTS temp_table"
   ]
  },
  {
   "cell_type": "code",
   "execution_count": 4,
   "id": "dd94d0e6",
   "metadata": {},
   "outputs": [
    {
     "data": {
      "text/html": [
       "<div>\n",
       "<style scoped>\n",
       "    .dataframe tbody tr th:only-of-type {\n",
       "        vertical-align: middle;\n",
       "    }\n",
       "\n",
       "    .dataframe tbody tr th {\n",
       "        vertical-align: top;\n",
       "    }\n",
       "\n",
       "    .dataframe thead th {\n",
       "        text-align: right;\n",
       "    }\n",
       "</style>\n",
       "<table border=\"1\" class=\"dataframe\">\n",
       "  <thead>\n",
       "    <tr style=\"text-align: right;\">\n",
       "      <th></th>\n",
       "      <th>Success</th>\n",
       "    </tr>\n",
       "  </thead>\n",
       "  <tbody>\n",
       "  </tbody>\n",
       "</table>\n",
       "</div>"
      ],
      "text/plain": [
       "Empty DataFrame\n",
       "Columns: [Success]\n",
       "Index: []"
      ]
     },
     "execution_count": 4,
     "metadata": {},
     "output_type": "execute_result"
    }
   ],
   "source": [
    "%%sql\n",
    "CREATE TEMPORARY TABLE temp_table AS\n",
    "SELECT *,\n",
    "  CASE\n",
    "    WHEN EXISTS (\n",
    "      SELECT True\n",
    "      FROM competencia_01 c3\n",
    "      WHERE c3.numero_de_cliente = c1.numero_de_cliente\n",
    "        AND c3.foto_mes = c1.foto_mes+2) \n",
    "    THEN 'CONTINUA'\n",
    "    WHEN (c1.foto_mes + 1) > (SELECT MAX(foto_mes) FROM competencia_01) THEN 'NA'\n",
    "    WHEN NOT EXISTS (\n",
    "      SELECT True\n",
    "      FROM competencia_01 c2\n",
    "      WHERE c2.numero_de_cliente = c1.numero_de_cliente\n",
    "        AND c2.foto_mes = c1.foto_mes+1) \n",
    "    THEN 'BAJA+1'\n",
    "    WHEN (c1.foto_mes + 2) > (SELECT MAX(foto_mes) FROM competencia_01) THEN 'NA'\n",
    "    WHEN NOT EXISTS (\n",
    "      SELECT True\n",
    "      FROM competencia_01 c3\n",
    "      WHERE c3.numero_de_cliente = c1.numero_de_cliente\n",
    "        AND c3.foto_mes = c1.foto_mes+2) \n",
    "    THEN 'BAJA+2'\n",
    "    ELSE 'NA'\n",
    "      END AS clase_ternaria\n",
    "FROM competencia_01 c1\n"
   ]
  },
  {
   "cell_type": "code",
   "execution_count": 5,
   "id": "daad9db3",
   "metadata": {},
   "outputs": [
    {
     "data": {
      "text/html": [
       "<div>\n",
       "<style scoped>\n",
       "    .dataframe tbody tr th:only-of-type {\n",
       "        vertical-align: middle;\n",
       "    }\n",
       "\n",
       "    .dataframe tbody tr th {\n",
       "        vertical-align: top;\n",
       "    }\n",
       "\n",
       "    .dataframe thead th {\n",
       "        text-align: right;\n",
       "    }\n",
       "</style>\n",
       "<table border=\"1\" class=\"dataframe\">\n",
       "  <thead>\n",
       "    <tr style=\"text-align: right;\">\n",
       "      <th></th>\n",
       "      <th>clase_ternaria</th>\n",
       "      <th>foto_mes</th>\n",
       "      <th>cantidad</th>\n",
       "    </tr>\n",
       "  </thead>\n",
       "  <tbody>\n",
       "    <tr>\n",
       "      <th>0</th>\n",
       "      <td>CONTINUA</td>\n",
       "      <td>202103</td>\n",
       "      <td>161312</td>\n",
       "    </tr>\n",
       "    <tr>\n",
       "      <th>1</th>\n",
       "      <td>BAJA+2</td>\n",
       "      <td>202103</td>\n",
       "      <td>963</td>\n",
       "    </tr>\n",
       "    <tr>\n",
       "      <th>2</th>\n",
       "      <td>BAJA+1</td>\n",
       "      <td>202103</td>\n",
       "      <td>1049</td>\n",
       "    </tr>\n",
       "    <tr>\n",
       "      <th>3</th>\n",
       "      <td>NA</td>\n",
       "      <td>202104</td>\n",
       "      <td>162668</td>\n",
       "    </tr>\n",
       "    <tr>\n",
       "      <th>4</th>\n",
       "      <td>BAJA+1</td>\n",
       "      <td>202104</td>\n",
       "      <td>969</td>\n",
       "    </tr>\n",
       "    <tr>\n",
       "      <th>5</th>\n",
       "      <td>NA</td>\n",
       "      <td>202105</td>\n",
       "      <td>164102</td>\n",
       "    </tr>\n",
       "  </tbody>\n",
       "</table>\n",
       "</div>"
      ],
      "text/plain": [
       "  clase_ternaria  foto_mes  cantidad\n",
       "0       CONTINUA    202103    161312\n",
       "1         BAJA+2    202103       963\n",
       "2         BAJA+1    202103      1049\n",
       "3             NA    202104    162668\n",
       "4         BAJA+1    202104       969\n",
       "5             NA    202105    164102"
      ]
     },
     "execution_count": 5,
     "metadata": {},
     "output_type": "execute_result"
    }
   ],
   "source": [
    "%%sql\n",
    "SELECT \n",
    "  clase_ternaria,\n",
    "  foto_mes,\n",
    "  COUNT(*) AS cantidad\n",
    "FROM temp_table\n",
    "GROUP BY clase_ternaria,foto_mes\n",
    "ORDER BY foto_mes;"
   ]
  },
  {
   "cell_type": "code",
   "execution_count": 7,
   "id": "c999e65b",
   "metadata": {},
   "outputs": [
    {
     "data": {
      "text/html": [
       "<div>\n",
       "<style scoped>\n",
       "    .dataframe tbody tr th:only-of-type {\n",
       "        vertical-align: middle;\n",
       "    }\n",
       "\n",
       "    .dataframe tbody tr th {\n",
       "        vertical-align: top;\n",
       "    }\n",
       "\n",
       "    .dataframe thead th {\n",
       "        text-align: right;\n",
       "    }\n",
       "</style>\n",
       "<table border=\"1\" class=\"dataframe\">\n",
       "  <thead>\n",
       "    <tr style=\"text-align: right;\">\n",
       "      <th></th>\n",
       "      <th>Success</th>\n",
       "    </tr>\n",
       "  </thead>\n",
       "  <tbody>\n",
       "  </tbody>\n",
       "</table>\n",
       "</div>"
      ],
      "text/plain": [
       "Empty DataFrame\n",
       "Columns: [Success]\n",
       "Index: []"
      ]
     },
     "execution_count": 7,
     "metadata": {},
     "output_type": "execute_result"
    }
   ],
   "source": [
    "%%sql\n",
    "COPY temp_table TO 'G:/Mi unidad/Maestria Data Mining/2023_DMEyF/datasets/competencia_01.csv' (FORMAT CSV, HEADER)"
   ]
  },
  {
   "cell_type": "code",
   "execution_count": 17,
   "id": "666713c0",
   "metadata": {},
   "outputs": [
    {
     "data": {
      "text/html": [
       "<div>\n",
       "<style scoped>\n",
       "    .dataframe tbody tr th:only-of-type {\n",
       "        vertical-align: middle;\n",
       "    }\n",
       "\n",
       "    .dataframe tbody tr th {\n",
       "        vertical-align: top;\n",
       "    }\n",
       "\n",
       "    .dataframe thead th {\n",
       "        text-align: right;\n",
       "    }\n",
       "</style>\n",
       "<table border=\"1\" class=\"dataframe\">\n",
       "  <thead>\n",
       "    <tr style=\"text-align: right;\">\n",
       "      <th></th>\n",
       "      <th>Success</th>\n",
       "    </tr>\n",
       "  </thead>\n",
       "  <tbody>\n",
       "  </tbody>\n",
       "</table>\n",
       "</div>"
      ],
      "text/plain": [
       "Empty DataFrame\n",
       "Columns: [Success]\n",
       "Index: []"
      ]
     },
     "execution_count": 17,
     "metadata": {},
     "output_type": "execute_result"
    }
   ],
   "source": [
    "%%sql\n",
    "DROP TABLE IF EXISTS temp_table_2"
   ]
  },
  {
   "cell_type": "code",
   "execution_count": 6,
   "id": "ca9afe68",
   "metadata": {},
   "outputs": [
    {
     "data": {
      "text/html": [
       "<div>\n",
       "<style scoped>\n",
       "    .dataframe tbody tr th:only-of-type {\n",
       "        vertical-align: middle;\n",
       "    }\n",
       "\n",
       "    .dataframe tbody tr th {\n",
       "        vertical-align: top;\n",
       "    }\n",
       "\n",
       "    .dataframe thead th {\n",
       "        text-align: right;\n",
       "    }\n",
       "</style>\n",
       "<table border=\"1\" class=\"dataframe\">\n",
       "  <thead>\n",
       "    <tr style=\"text-align: right;\">\n",
       "      <th></th>\n",
       "      <th>Success</th>\n",
       "    </tr>\n",
       "  </thead>\n",
       "  <tbody>\n",
       "  </tbody>\n",
       "</table>\n",
       "</div>"
      ],
      "text/plain": [
       "Empty DataFrame\n",
       "Columns: [Success]\n",
       "Index: []"
      ]
     },
     "execution_count": 6,
     "metadata": {},
     "output_type": "execute_result"
    }
   ],
   "source": [
    "%%sql\n",
    "CREATE TEMPORARY TABLE temp_table_2 AS\n",
    "SELECT\n",
    "    *,\n",
    "    ifnull(ctarjeta_visa_transacciones, 0) + ifnull(ctarjeta_master_transacciones, 0) as tc_transacciones_total,\n",
    "    ifnull(ctarjeta_visa, 0) + ifnull(ctarjeta_master, 0) as tc_ctarjeta_total,\n",
    "    ifnull(mtarjeta_visa_consumo, 0) + ifnull(mtarjeta_master_consumo, 0) as tc_consumo_total,\n",
    "    ifnull(Master_mconsumototal, 0) + ifnull(Visa_mconsumototal, 0) as tc_mconsumo_total,\n",
    "    ifnull(Visa_mlimitecompra, 0) + ifnull(Master_mlimitecompra, 0) as tc_limcompra_total,\n",
    "    ifnull(Master_mpagado, 0) + ifnull(Visa_mpagado, 0) as tc_pagado_total,\n",
    "    ifnull(Master_mpagominimo, 0) + ifnull(Visa_mpagominimo, 0) as tc_pagomin_total,\n",
    "    ifnull(mprestamos_personales, 0) + ifnull(mprestamos_prendarios, 0) + ifnull(mprestamos_hipotecarios, 0) as pasivos_total,\n",
    "    ifnull(mplazo_fijo_dolares, 0) + ifnull(mplazo_fijo_pesos, 0) + ifnull(minversion1_pesos, 0) + \n",
    "        ifnull(minversion1_dolares, 0) + ifnull(minversion2, 0) as activos_total,\n",
    "    ifnull(mpayroll, 0) + ifnull(mpayroll2, 0) as flujos_ingresos_total,\n",
    "    ifnull(mcajeros_propios_descuentos, 0) + ifnull(mtarjeta_visa_descuentos, 0) + ifnull(mtarjeta_master_descuentos, 0) as beneficios_total,\n",
    "    ifnull(mcomisiones_mantenimiento, 0) + ifnull(mcomisiones_otras, 0) as comisiones_total,\n",
    "    ifnull(mcuenta_debitos_automaticos, 0) + ifnull(mttarjeta_visa_debitos_automaticos, 0) + ifnull(mttarjeta_master_debitos_automaticos, 0) \n",
    "        + ifnull(mpagodeservicios, 0) + ifnull(mpagomiscuentas, 0) as gastos_total,\n",
    "    \n",
    "    NULLIF(tc_consumo_total / NULLIF(flujos_ingresos_total,0),0) as consumo_sobre_ingresos,\n",
    "    NULLIF(tc_mconsumo_total / NULLIF(flujos_ingresos_total,0),0) as tcm_consumo_sobre_ingresos,\n",
    "    NULLIF(tc_pagado_total / NULLIF(flujos_ingresos_total,0),0) as pagado_sobre_ingresos,\n",
    "    NULLIF(tc_pagado_total / NULLIF(activos_total,0),0) as pagado_sobre_activos,\n",
    "    NULLIF(tc_pagomin_total / NULLIF(flujos_ingresos_total,0),0) as pagomin_sobre_ingresos,\n",
    "    NULLIF(tc_consumo_total / NULLIF(activos_total,0),0) as gastos_sobre_activos,\n",
    "    NULLIF(activos_total / NULLIF(pasivos_total,0),0) as activos_sobre_pasivos,\n",
    "    NULLIF(beneficios_total / NULLIF(comisiones_total,0),0) as beneficios_sobre_comisiones,\n",
    "    NULLIF(beneficios_total / NULLIF(tc_consumo_total,0),0) as beneficios_sobre_consumos,\n",
    "    NULLIF(gastos_total / NULLIF(flujos_ingresos_total,0),0) as gastos_sobre_ingresos,\n",
    "    NULLIF(tc_limcompra_total / NULLIF(tc_consumo_total,0),0) as lim_sobre_consumos,\n",
    "       \n",
    "FROM temp_table"
   ]
  },
  {
   "cell_type": "code",
   "execution_count": 15,
   "id": "167c15c5",
   "metadata": {},
   "outputs": [
    {
     "data": {
      "text/html": [
       "<div>\n",
       "<style scoped>\n",
       "    .dataframe tbody tr th:only-of-type {\n",
       "        vertical-align: middle;\n",
       "    }\n",
       "\n",
       "    .dataframe tbody tr th {\n",
       "        vertical-align: top;\n",
       "    }\n",
       "\n",
       "    .dataframe thead th {\n",
       "        text-align: right;\n",
       "    }\n",
       "</style>\n",
       "<table border=\"1\" class=\"dataframe\">\n",
       "  <thead>\n",
       "    <tr style=\"text-align: right;\">\n",
       "      <th></th>\n",
       "      <th>Success</th>\n",
       "    </tr>\n",
       "  </thead>\n",
       "  <tbody>\n",
       "  </tbody>\n",
       "</table>\n",
       "</div>"
      ],
      "text/plain": [
       "Empty DataFrame\n",
       "Columns: [Success]\n",
       "Index: []"
      ]
     },
     "execution_count": 15,
     "metadata": {},
     "output_type": "execute_result"
    }
   ],
   "source": [
    "%%sql\n",
    "ALTER TABLE temp_table_2 DROP COLUMN ctarjeta_visa_transacciones;\n",
    "ALTER TABLE temp_table_2 DROP COLUMN ctarjeta_master_transacciones;\n",
    "ALTER TABLE temp_table_2 DROP COLUMN ctarjeta_visa;\n",
    "ALTER TABLE temp_table_2 DROP COLUMN ctarjeta_master;\n",
    "ALTER TABLE temp_table_2 DROP COLUMN mtarjeta_visa_consumo;\n",
    "ALTER TABLE temp_table_2 DROP COLUMN mtarjeta_master_consumo;\n",
    "ALTER TABLE temp_table_2 DROP COLUMN Master_mconsumototal;\n",
    "ALTER TABLE temp_table_2 DROP COLUMN Visa_mconsumototal;\n",
    "ALTER TABLE temp_table_2 DROP COLUMN Visa_mlimitecompra;\n",
    "ALTER TABLE temp_table_2 DROP COLUMN Master_mlimitecompra;\n",
    "ALTER TABLE temp_table_2 DROP COLUMN Master_mpagado;\n",
    "ALTER TABLE temp_table_2 DROP COLUMN Visa_mpagado;\n",
    "ALTER TABLE temp_table_2 DROP COLUMN Master_mpagominimo;\n",
    "ALTER TABLE temp_table_2 DROP COLUMN Visa_mpagominimo;\n"
   ]
  },
  {
   "cell_type": "code",
   "execution_count": 18,
   "id": "485d02b9",
   "metadata": {},
   "outputs": [
    {
     "data": {
      "text/html": [
       "<div>\n",
       "<style scoped>\n",
       "    .dataframe tbody tr th:only-of-type {\n",
       "        vertical-align: middle;\n",
       "    }\n",
       "\n",
       "    .dataframe tbody tr th {\n",
       "        vertical-align: top;\n",
       "    }\n",
       "\n",
       "    .dataframe thead th {\n",
       "        text-align: right;\n",
       "    }\n",
       "</style>\n",
       "<table border=\"1\" class=\"dataframe\">\n",
       "  <thead>\n",
       "    <tr style=\"text-align: right;\">\n",
       "      <th></th>\n",
       "      <th>Success</th>\n",
       "    </tr>\n",
       "  </thead>\n",
       "  <tbody>\n",
       "  </tbody>\n",
       "</table>\n",
       "</div>"
      ],
      "text/plain": [
       "Empty DataFrame\n",
       "Columns: [Success]\n",
       "Index: []"
      ]
     },
     "execution_count": 18,
     "metadata": {},
     "output_type": "execute_result"
    }
   ],
   "source": [
    "%%sql\n",
    "CREATE TEMPORARY TABLE temp_table_3 AS\n",
    "SELECT \n",
    "    *,\n",
    "    cume_dist() over (partition by foto_mes order by tc_transacciones_total) as tc_transacciones_total_sd,\n",
    "    cume_dist() over (partition by foto_mes order by tc_mconsumo_total) as tc_mconsumo_total_sd,\n",
    "    cume_dist() over (partition by foto_mes order by tc_limcompra_total) as tc_limcompra_total_sd,\n",
    "    cume_dist() over (partition by foto_mes order by tc_pagado_total) as tc_pagado_total_sd,\n",
    "    cume_dist() over (partition by foto_mes order by pasivos_total) as pasivos_total_sd,\n",
    "    cume_dist() over (partition by foto_mes order by activos_total) as activos_total_sd,\n",
    "    cume_dist() over (partition by foto_mes order by flujos_ingresos_total) as flujos_ingresos_total_sd,\n",
    "    cume_dist() over (partition by foto_mes order by comisiones_total) as comisiones_total_sd,\n",
    "    cume_dist() over (partition by foto_mes order by beneficios_total) as beneficios_total_sd,\n",
    "    cume_dist() over (partition by foto_mes order by gastos_total) as gastos_total_sd,\n",
    "    cume_dist() over (partition by foto_mes order by tc_pagomin_total) as tc_pagomin_total_sd\n",
    "\n",
    "FROM temp_table_2"
   ]
  },
  {
   "cell_type": "code",
   "execution_count": 19,
   "id": "cc9b5cbd",
   "metadata": {},
   "outputs": [
    {
     "data": {
      "text/html": [
       "<div>\n",
       "<style scoped>\n",
       "    .dataframe tbody tr th:only-of-type {\n",
       "        vertical-align: middle;\n",
       "    }\n",
       "\n",
       "    .dataframe tbody tr th {\n",
       "        vertical-align: top;\n",
       "    }\n",
       "\n",
       "    .dataframe thead th {\n",
       "        text-align: right;\n",
       "    }\n",
       "</style>\n",
       "<table border=\"1\" class=\"dataframe\">\n",
       "  <thead>\n",
       "    <tr style=\"text-align: right;\">\n",
       "      <th></th>\n",
       "      <th>Success</th>\n",
       "    </tr>\n",
       "  </thead>\n",
       "  <tbody>\n",
       "  </tbody>\n",
       "</table>\n",
       "</div>"
      ],
      "text/plain": [
       "Empty DataFrame\n",
       "Columns: [Success]\n",
       "Index: []"
      ]
     },
     "execution_count": 19,
     "metadata": {},
     "output_type": "execute_result"
    }
   ],
   "source": [
    "%%sql\n",
    "ALTER TABLE temp_table_3 DROP COLUMN tc_transacciones_total;\n",
    "ALTER TABLE temp_table_3 DROP COLUMN tc_mconsumo_total;\n",
    "ALTER TABLE temp_table_3 DROP COLUMN tc_limcompra_total;\n",
    "ALTER TABLE temp_table_3 DROP COLUMN tc_pagado_total;\n",
    "ALTER TABLE temp_table_3 DROP COLUMN pasivos_total;\n",
    "ALTER TABLE temp_table_3 DROP COLUMN activos_total;\n",
    "ALTER TABLE temp_table_3 DROP COLUMN flujos_ingresos_total;\n",
    "ALTER TABLE temp_table_3 DROP COLUMN comisiones_total;\n",
    "ALTER TABLE temp_table_3 DROP COLUMN beneficios_total;\n",
    "ALTER TABLE temp_table_3 DROP COLUMN gastos_total;\n",
    "ALTER TABLE temp_table_3 DROP COLUMN tc_pagomin_total;"
   ]
  },
  {
   "cell_type": "code",
   "execution_count": 20,
   "id": "61a2ec26",
   "metadata": {},
   "outputs": [
    {
     "data": {
      "text/html": [
       "<div>\n",
       "<style scoped>\n",
       "    .dataframe tbody tr th:only-of-type {\n",
       "        vertical-align: middle;\n",
       "    }\n",
       "\n",
       "    .dataframe tbody tr th {\n",
       "        vertical-align: top;\n",
       "    }\n",
       "\n",
       "    .dataframe thead th {\n",
       "        text-align: right;\n",
       "    }\n",
       "</style>\n",
       "<table border=\"1\" class=\"dataframe\">\n",
       "  <thead>\n",
       "    <tr style=\"text-align: right;\">\n",
       "      <th></th>\n",
       "      <th>Success</th>\n",
       "    </tr>\n",
       "  </thead>\n",
       "  <tbody>\n",
       "  </tbody>\n",
       "</table>\n",
       "</div>"
      ],
      "text/plain": [
       "Empty DataFrame\n",
       "Columns: [Success]\n",
       "Index: []"
      ]
     },
     "execution_count": 20,
     "metadata": {},
     "output_type": "execute_result"
    }
   ],
   "source": [
    "%%sql\n",
    "COPY temp_table_3 TO 'G:/Mi unidad/Maestria Data Mining/2023_DMEyF/datasets/competencia_01.csv' (FORMAT CSV, HEADER)"
   ]
  }
 ],
 "metadata": {
  "kernelspec": {
   "display_name": "Python 3 (ipykernel)",
   "language": "python",
   "name": "python3"
  },
  "language_info": {
   "codemirror_mode": {
    "name": "ipython",
    "version": 3
   },
   "file_extension": ".py",
   "mimetype": "text/x-python",
   "name": "python",
   "nbconvert_exporter": "python",
   "pygments_lexer": "ipython3",
   "version": "3.11.4"
  }
 },
 "nbformat": 4,
 "nbformat_minor": 5
}
