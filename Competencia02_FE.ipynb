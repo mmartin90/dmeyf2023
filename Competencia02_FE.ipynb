{
 "cells": [
  {
   "cell_type": "code",
   "execution_count": null,
   "metadata": {},
   "outputs": [],
   "source": [
    "%%bash\n",
    "pip install --upgrade duckdb\n",
    "pip install --upgrade jupysql\n",
    "pip install --upgrade duckdb-engine"
   ]
  },
  {
   "cell_type": "code",
   "execution_count": null,
   "metadata": {},
   "outputs": [],
   "source": [
    "import duckdb\n",
    "import pandas as pd\n",
    "\n",
    "%load_ext sql\n",
    "%config SqlMagic.autopandas = True\n",
    "%config SqlMagic.feedback = False\n",
    "%config SqlMagic.displaycon = False\n",
    "\n",
    "%sql duckdb:////content/dmeyf.db"
   ]
  },
  {
   "cell_type": "code",
   "execution_count": null,
   "metadata": {},
   "outputs": [],
   "source": [
    "%sql duckdb:///:default:"
   ]
  },
  {
   "cell_type": "code",
   "execution_count": null,
   "metadata": {},
   "outputs": [],
   "source": [
    "%%sql\n",
    "create or replace table competencia_01 as \n",
    "select \n",
    "    *\n",
    "from read_csv_auto('./datasets/competencia_02.csv.gz')"
   ]
  },
  {
   "cell_type": "code",
   "execution_count": null,
   "metadata": {},
   "outputs": [],
   "source": [
    "%%sql\n",
    "CREATE MACRO suma_sin_null(a, b) AS ifnull(a, 0) + ifnull(b, 0);"
   ]
  },
  {
   "cell_type": "code",
   "execution_count": null,
   "metadata": {},
   "outputs": [],
   "source": [
    "%%sql\n",
    "CREATE MACRO calculo_ratio(a, b) AS NULLIF(a / NULLIF(b,0),0);"
   ]
  },
  {
   "cell_type": "code",
   "execution_count": null,
   "metadata": {},
   "outputs": [],
   "source": [
    "%%sql\n",
    "CREATE MACRO corrijo_drift_rank(a,b) AS rank() over (partition by b order by a);"
   ]
  },
  {
   "cell_type": "markdown",
   "metadata": {},
   "source": [
    "#### Aplicando funciones para Competencia02"
   ]
  },
  {
   "cell_type": "code",
   "execution_count": null,
   "metadata": {},
   "outputs": [],
   "source": [
    "%%sql\n",
    "CREATE TABLE table_1 AS\n",
    "SELECT\n",
    "    *,\n",
    "    \n",
    "    suma_sin_null(ctarjeta_visa_transacciones, ctarjeta_master_transacciones) as tc_transacciones_total,\n",
    "    suma_sin_null(ctarjeta_visa, ctarjeta_master) as tc_ctarjeta_total,\n",
    "    suma_sin_null(mtarjeta_visa_consumo, mtarjeta_master_consumo) as tc_consumo_total,\n",
    "    suma_sin_null(Master_mconsumototal, Visa_mconsumototal) as tc_mconsumo_total,\n",
    "    suma_sin_null(Visa_mlimitecompra, Master_mlimitecompra) as tc_limcompra_total,\n",
    "    suma_sin_null(Master_mpagado, Visa_mpagado) as tc_pagado_total,\n",
    "    suma_sin_null(Master_mpagominimo, Visa_mpagominimo) as tc_saldo_total,\n",
    "    suma_sin_null(Master_msaldototal, Visa_msaldototal) as tc_pagomin_total,\n",
    "    ifnull(mprestamos_personales, 0) + ifnull(mprestamos_prendarios, 0) + ifnull(mprestamos_hipotecarios, 0) as pasivos_total,\n",
    "    ifnull(mplazo_fijo_dolares, 0) + ifnull(mplazo_fijo_pesos, 0) + ifnull(minversion1_pesos, 0) \n",
    "        + ifnull(minversion1_dolares, 0) + ifnull(minversion2, 0) as activos_total,\n",
    "    ifnull(mpayroll, 0) + ifnull(mpayroll2, 0) as flujos_ingresos_total,\n",
    "    ifnull(mcajeros_propios_descuentos, 0) + ifnull(mtarjeta_visa_descuentos, 0) + ifnull(mtarjeta_master_descuentos, 0) as beneficios_total,\n",
    "    ifnull(mcomisiones_mantenimiento, 0) + ifnull(mcomisiones_otras, 0) as comisiones_total,\n",
    "    ifnull(mcuenta_debitos_automaticos, 0) + ifnull(mttarjeta_visa_debitos_automaticos, 0) + ifnull(mttarjeta_master_debitos_automaticos, 0) \n",
    "        + ifnull(mpagodeservicios, 0) + ifnull(mpagomiscuentas, 0) as gastos_total,\n",
    "\n",
    "\n",
    "    corrijo_drift_rank(tc_mconsumo_total, foto_mes) as tc_mconsumo_total_sin_drift,\n",
    "    corrijo_drift_rank(tc_limcompra_total, foto_mes) as tc_limcompra_total_sin_drift,\n",
    "    corrijo_drift_rank(tc_pagado_total, foto_mes) as tc_pagado_total_sin_drift,\n",
    "    corrijo_drift_rank(pasivos_total, foto_mes) as pasivos_total_sin_drift,\n",
    "    corrijo_drift_rank(activos_total, foto_mes) as activos_total_sin_drift,\n",
    "    corrijo_drift_rank(flujos_ingresos_total, foto_mes) as flujos_ingresos_total_sin_drift,\n",
    "    corrijo_drift_rank(comisiones_total, foto_mes) as comisiones_total_sin_drift,\n",
    "    corrijo_drift_rank(gastos_total, foto_mes) as gastos_total_sin_drift,\n",
    "    \n",
    "\n",
    "\n",
    "    calculo_ratio(tc_consumo_total, flujos_ingresos_total) as consumo_sobre_ingresos,\n",
    "    calculo_ratio(tc_mconsumo_total, flujos_ingresos_total) as tcm_consumo_sobre_ingresos,\n",
    "    calculo_ratio(tc_pagado_total, flujos_ingresos_total) as pagado_sobre_ingresos,\n",
    "    calculo_ratio(tc_pagado_total, activos_total) as pagado_sobre_activos,\n",
    "    calculo_ratio(tc_pagomin_total, flujos_ingresos_total) as pagomin_sobre_ingresos,\n",
    "    calculo_ratio(tc_consumo_total, activos_total) as gastos_sobre_activos,\n",
    "    calculo_ratio(activos_total, pasivos_total) as activos_sobre_pasivos,\n",
    "    calculo_ratio(beneficios_total, comisiones_total) as beneficios_sobre_comisiones,\n",
    "    calculo_ratio(beneficios_total, tc_consumo_total) as beneficios_sobre_consumos,\n",
    "    calculo_ratio(gastos_total, flujos_ingresos_total) as gastos_sobre_ingresos,\n",
    "    calculo_ratio(tc_limcompra_total, tc_consumo_total) as lim_sobre_consumos,\n",
    "    \n",
    "     \n",
    "FROM competencia_01"
   ]
  },
  {
   "cell_type": "code",
   "execution_count": null,
   "metadata": {},
   "outputs": [],
   "source": [
    "%%sql\n",
    "DROP TABLE IF EXISTS competencia_01"
   ]
  },
  {
   "cell_type": "code",
   "execution_count": null,
   "metadata": {},
   "outputs": [],
   "source": [
    "%%sql\n",
    "CREATE TABLE table_2 AS\n",
    "SELECT\n",
    "    *,\n",
    "\n",
    "    lag(ctrx_quarter, 1) over (partition by numero_de_cliente order by foto_mes) as ctrx_quarter_sin_drift,\n",
    "    lag(tc_mconsumo_total_sin_drift, 1) over (partition by numero_de_cliente order by foto_mes) as lag_1_tc_mconsumo_total_sin_drift,\n",
    "    lag(tc_limcompra_total_sin_drift, 1) over (partition by numero_de_cliente order by foto_mes) as lag_1_tc_limcompra_total_sin_drift,\n",
    "    lag(tc_pagado_total_sin_drift, 1) over (partition by numero_de_cliente order by foto_mes) as lag_1_tc_pagado_total_sin_drift,\n",
    "    lag(pasivos_total_sin_drift, 1) over (partition by numero_de_cliente order by foto_mes) as lag_1_pasivos_total_sin_drift,\n",
    "    lag(activos_total_sin_drift, 1) over (partition by numero_de_cliente order by foto_mes) as lag_1_activos_total_sin_drift,\n",
    "    lag(flujos_ingresos_total_sin_drift, 1) over (partition by numero_de_cliente order by foto_mes) as lag_1_flujos_ingresos_total_sin_drift,\n",
    "    lag(comisiones_total_sin_drift, 1) over (partition by numero_de_cliente order by foto_mes) as lag_1_comisiones_total_sin_drift,\n",
    "    lag(gastos_total_sin_drift, 1) over (partition by numero_de_cliente order by foto_mes) as lag_1_gastos_total_sin_drift,\n",
    "    \n",
    "     \n",
    "FROM table_1"
   ]
  },
  {
   "cell_type": "code",
   "execution_count": null,
   "metadata": {},
   "outputs": [],
   "source": [
    "%%sql\n",
    "DROP TABLE IF EXISTS table_1"
   ]
  },
  {
   "cell_type": "code",
   "execution_count": null,
   "metadata": {},
   "outputs": [],
   "source": [
    "%%sql\n",
    "CREATE TABLE table_3 AS\n",
    "SELECT\n",
    "    *,\n",
    "        \n",
    "    avg(ctrx_quarter) over ventana_6 as ctrx_quarter_media_6, \n",
    "    max(ctrx_quarter) over ventana_6 as ctrx_quarter_max_6, \n",
    "    min(ctrx_quarter) over ventana_6 as ctrx_quarter_min_6,\n",
    "    regr_slope(ctrx_quarter, cliente_antiguedad) over ventana_6 as ctrx_quarter_slope_6,\n",
    "    \n",
    "    avg(cproductos) over ventana_6 as cproductos_media_6, \n",
    "    max(cproductos) over ventana_6 as cproductos_max_6, \n",
    "    min(cproductos) over ventana_6 as cproductos_min_6,\n",
    "    regr_slope(cproductos, cliente_antiguedad) over ventana_6 as cproductos_slope_6,\n",
    "    \n",
    "    avg(ctarjeta_debito_transacciones) over ventana_6 as ctarjeta_debito_transacciones_media_6, \n",
    "    max(ctarjeta_debito_transacciones) over ventana_6 as ctarjeta_debito_transacciones_max_6, \n",
    "    min(ctarjeta_debito_transacciones) over ventana_6 as ctarjeta_debito_transacciones_min_6,\n",
    "    regr_slope(ctarjeta_debito_transacciones, cliente_antiguedad) over ventana_6 as ctarjeta_debito_transacciones_slope_6,\n",
    "\n",
    "    avg(chomebanking_transacciones) over ventana_6 as chomebanking_transacciones_media_6, \n",
    "    max(chomebanking_transacciones) over ventana_6 as chomebanking_transacciones_max_6, \n",
    "    min(chomebanking_transacciones) over ventana_6 as chomebanking_transacciones_min_6,\n",
    "    regr_slope(chomebanking_transacciones, cliente_antiguedad) over ventana_6 as chomebanking_transacciones_slope_6,\n",
    "\n",
    "    avg(tc_transacciones_total) over ventana_6 as tc_transacciones_total_media_6, \n",
    "    max(tc_transacciones_total) over ventana_6 as tc_transacciones_total_max_6, \n",
    "    min(tc_transacciones_total) over ventana_6 as tc_transacciones_total_min_6,\n",
    "    regr_slope(tc_transacciones_total, cliente_antiguedad) over ventana_6 as tc_transacciones_total_slope_6,    \n",
    "     \n",
    "FROM table_2\n",
    "window ventana_6 as (partition by numero_de_cliente order by foto_mes rows between 6 preceding and current row)"
   ]
  },
  {
   "cell_type": "code",
   "execution_count": null,
   "metadata": {},
   "outputs": [],
   "source": [
    "%%sql\n",
    "DROP TABLE IF EXISTS table_2"
   ]
  },
  {
   "cell_type": "code",
   "execution_count": 1,
   "metadata": {},
   "outputs": [
    {
     "name": "stderr",
     "output_type": "stream",
     "text": [
      "UsageError: Cell magic `%%sql` not found.\n"
     ]
    }
   ],
   "source": [
    "%%sql\n",
    "ALTER TABLE table_3 DROP COLUMN ctarjeta_visa_transacciones;\n",
    "ALTER TABLE table_3 DROP COLUMN ctarjeta_master_transacciones;\n",
    "ALTER TABLE table_3 DROP COLUMN ctarjeta_visa;\n",
    "ALTER TABLE table_3 DROP COLUMN ctarjeta_master;\n",
    "ALTER TABLE table_3 DROP COLUMN mtarjeta_visa_consumo;\n",
    "ALTER TABLE table_3 DROP COLUMN mtarjeta_master_consumo;\n",
    "ALTER TABLE table_3 DROP COLUMN Master_mconsumototal;\n",
    "ALTER TABLE table_3 DROP COLUMN Visa_mconsumototal;\n",
    "ALTER TABLE table_3 DROP COLUMN Visa_mlimitecompra;\n",
    "ALTER TABLE table_3 DROP COLUMN Master_mlimitecompra;\n",
    "ALTER TABLE table_3 DROP COLUMN Master_mpagado;\n",
    "ALTER TABLE table_3 DROP COLUMN Visa_mpagado;\n",
    "ALTER TABLE table_3 DROP COLUMN Master_mpagominimo;\n",
    "ALTER TABLE table_3 DROP COLUMN Visa_mpagominimo;\n",
    "ALTER TABLE table_3 DROP COLUMN tc_mconsumo_total;\n",
    "ALTER TABLE table_3 DROP COLUMN tc_limcompra_total;\n",
    "ALTER TABLE table_3 DROP COLUMN tc_pagado_total;\n",
    "ALTER TABLE table_3 DROP COLUMN pasivos_total;\n",
    "ALTER TABLE table_3 DROP COLUMN activos_total;\n",
    "ALTER TABLE table_3 DROP COLUMN flujos_ingresos_total;\n",
    "ALTER TABLE table_3 DROP COLUMN comisiones_total;\n",
    "ALTER TABLE table_3 DROP COLUMN gastos_total;\n"
   ]
  },
  {
   "cell_type": "code",
   "execution_count": null,
   "metadata": {},
   "outputs": [],
   "source": [
    "%%sql\n",
    "copy table_3 to './datasets/competencia_02.csv.gz' (FORMAT CSV, HEADER)"
   ]
  }
 ],
 "metadata": {
  "kernelspec": {
   "display_name": "Python 3",
   "language": "python",
   "name": "python3"
  },
  "language_info": {
   "codemirror_mode": {
    "name": "ipython",
    "version": 3
   },
   "file_extension": ".py",
   "mimetype": "text/x-python",
   "name": "python",
   "nbconvert_exporter": "python",
   "pygments_lexer": "ipython3",
   "version": "3.11.4"
  },
  "orig_nbformat": 4
 },
 "nbformat": 4,
 "nbformat_minor": 2
}
